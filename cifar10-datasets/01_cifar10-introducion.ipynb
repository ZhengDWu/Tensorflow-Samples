{
 "cells": [
  {
   "cell_type": "markdown",
   "metadata": {},
   "source": [
    "# Part 1：the introduction of the cifar10 datasets"
   ]
  },
  {
   "cell_type": "code",
   "execution_count": 1,
   "metadata": {},
   "outputs": [
    {
     "name": "stdout",
     "output_type": "stream",
     "text": [
      "['batches.meta', 'data_batch_1', 'data_batch_2', 'data_batch_3', 'data_batch_4', 'data_batch_5', 'readme.html', 'test_batch']\n"
     ]
    }
   ],
   "source": [
    "import pickle\n",
    "import numpy as np\n",
    "import os\n",
    "\n",
    "# the path of the cifar10 datasets \n",
    "# which is downloaded from the link of \"https://www.cs.toronto.edu/~kriz/cifar.html\" (Warning: we should download the python version)\n",
    "CIFAR_DIR = \"./cifar-10-batches-py\" \n",
    "print(os.listdir(CIFAR_DIR))"
   ]
  },
  {
   "cell_type": "code",
   "execution_count": 17,
   "metadata": {},
   "outputs": [
    {
     "name": "stdout",
     "output_type": "stream",
     "text": [
      "<class 'dict'>\n",
      "dict_keys([b'data', b'filenames', b'labels', b'batch_label'])\n",
      "--------------------\n",
      "<class 'numpy.ndarray'>\n",
      "<class 'list'>\n",
      "<class 'bytes'>\n",
      "<class 'list'>\n",
      "--------------------\n",
      "(10000, 3072)\n",
      "10000\n",
      "[[ 59  43  50 ... 140  84  72]\n",
      " [154 126 105 ... 139 142 144]]\n",
      "[6, 9]\n",
      "b'training batch 1 of 5'\n",
      "[b'leptodactylus_pentadactylus_s_000004.png', b'camion_s_000148.png']\n"
     ]
    }
   ],
   "source": [
    "with open(os.path.join(CIFAR_DIR, \"data_batch_1\"), \"rb\") as f:\n",
    "    data = pickle.load(f, encoding='bytes')\n",
    "    print(type(data))  # the type of datasets is \"dict\"\n",
    "    print(data.keys()) # get the key from data, and we can konw it has 4 keys.\n",
    "    print('--------------------')\n",
    "    # print the type of the key\n",
    "    print(type(data[b'data']))\n",
    "    print(type(data[b'labels']))\n",
    "    print(type(data[b'batch_label']))\n",
    "    print(type(data[b'filenames']))\n",
    "    print('--------------------')\n",
    "    # Get some key information that we can better understand the struction of the cifar10 datasets\n",
    "    print(data[b'data'].shape)\n",
    "    print(len(data[b'labels']))\n",
    "    print(data[b'data'][0:2])\n",
    "    print(data[b'labels'][0:2])\n",
    "    print(data[b'batch_label'])\n",
    "    print(data[b'filenames'][0:2])"
   ]
  },
  {
   "cell_type": "code",
   "execution_count": 27,
   "metadata": {},
   "outputs": [
    {
     "data": {
      "text/plain": [
       "<matplotlib.image.AxesImage at 0x1af0116d400>"
      ]
     },
     "execution_count": 27,
     "metadata": {},
     "output_type": "execute_result"
    },
    {
     "data": {
      "image/png": "[encoded data removed]",
      "text/plain": [
       "<Figure size 432x288 with 1 Axes>"
      ]
     },
     "metadata": {
      "needs_background": "light"
     },
     "output_type": "display_data"
    }
   ],
   "source": [
    "'''\n",
    "From the above analysis we can know the shape of data is \"10000 * 3072\"\n",
    "that means the \"data_batch_1\" file has ten thousand images and each of images have 1024 pixels(像素点) times 3 channels.\n",
    "1024 * 3 = 3072\n",
    "\n",
    "And the labels represent the category, for example, the number 9 represents animal species, as the following codes show.\n",
    "'''\n",
    "\n",
    "# selecting the 9th picture (the label also is 9) to show us what is it\n",
    "image_arr = data[b'data'][9]\n",
    "# Changing the shape from (,3072) to (32, 32, 3), the we can get 32 by 32 pictures and their channle is 3.\n",
    "image_arr = image_arr.reshape((3, 32, 32))\n",
    "image_arr = image_arr.transpose((1, 2, 0))\n",
    "\n",
    "import matplotlib.pyplot as plt\n",
    "from matplotlib.pyplot import imshow\n",
    "%matplotlib inline\n",
    "\n",
    "imshow(image_arr)"
   ]
  },
  {
   "cell_type": "markdown",
   "metadata": {},
   "source": [
    "# Part1 is finishing! Congratulation!"
   ]
  }
 ],
 "metadata": {
  "kernelspec": {
   "display_name": "Python 3",
   "language": "python",
   "name": "python3"
  },
  "language_info": {
   "codemirror_mode": {
    "name": "ipython",
    "version": 3
   },
   "file_extension": ".py",
   "mimetype": "text/x-python",
   "name": "python",
   "nbconvert_exporter": "python",
   "pygments_lexer": "ipython3",
   "version": "3.5.0"
  }
 },
 "nbformat": 4,
 "nbformat_minor": 2
}
